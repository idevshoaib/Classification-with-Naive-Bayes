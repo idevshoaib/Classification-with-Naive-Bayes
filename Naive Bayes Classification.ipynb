{
 "cells": [
  {
   "cell_type": "markdown",
   "metadata": {},
   "source": [
    "# Spam Collection using Naive Bayes\n",
    "### we wil use SMSSpamCollection dataset for classification"
   ]
  },
  {
   "cell_type": "markdown",
   "metadata": {},
   "source": [
    "## Importing Required Libraries "
   ]
  },
  {
   "cell_type": "code",
   "execution_count": 1,
   "metadata": {
    "collapsed": true
   },
   "outputs": [],
   "source": [
    "import pandas as pd\n",
    "from collections import Counter\n",
    "import math\n",
    "import matplotlib.pyplot as plt\n",
    "import csv"
   ]
  },
  {
   "cell_type": "markdown",
   "metadata": {},
   "source": [
    "## Loading DataSet \n",
    "### Separating the spam and ham messages in lists"
   ]
  },
  {
   "cell_type": "code",
   "execution_count": 2,
   "metadata": {},
   "outputs": [
    {
     "data": {
      "text/plain": [
       "5537"
      ]
     },
     "execution_count": 2,
     "metadata": {},
     "output_type": "execute_result"
    }
   ],
   "source": [
    "messages = pd.read_csv('training.csv', sep='\\t', quoting=csv.QUOTE_NONE, names=[\"label\", \"message\"])\n",
    "messages = messages.dropna() # drop empty row\n",
    "spam = []\n",
    "ham = []\n",
    "for index, row in messages.iterrows():\n",
    "    if row.label == 'spam':\n",
    "        spam.append(row.message)\n",
    "    if row.label == 'ham':\n",
    "        ham.append(row.message)\n",
    "len(messages)\n"
   ]
  },
  {
   "cell_type": "markdown",
   "metadata": {},
   "source": [
    "## Preprocessing"
   ]
  },
  {
   "cell_type": "code",
   "execution_count": 3,
   "metadata": {
    "collapsed": true
   },
   "outputs": [],
   "source": [
    "def cleanText(string):\n",
    "    string = string.lower()\n",
    "    string = string.replace(\". \", \" \")\n",
    "    string = string.replace(\": \", \" \")\n",
    "    string = string.replace(\"?\",\" \")\n",
    "    string = string.replace(\"!\",\" \")\n",
    "    string = string.replace(\";\", \" \")\n",
    "    string = string.replace(\",\", \" \")\n",
    "    return string"
   ]
  },
  {
   "cell_type": "markdown",
   "metadata": {},
   "source": [
    "## Cleaning Data"
   ]
  },
  {
   "cell_type": "code",
   "execution_count": 4,
   "metadata": {
    "collapsed": true
   },
   "outputs": [],
   "source": [
    "ham = [cleanText(i) for i in ham]\n",
    "spam = [cleanText(i) for i in spam]"
   ]
  },
  {
   "cell_type": "markdown",
   "metadata": {},
   "source": [
    "## Counting the frquencies of token by spliting the massage with spaces for ham"
   ]
  },
  {
   "cell_type": "code",
   "execution_count": 5,
   "metadata": {},
   "outputs": [],
   "source": [
    "wordCntForHam = Counter()\n",
    "for row in ham:\n",
    "    for word in row.split(' '):\n",
    "        wordCntForHam[word] += 1\n",
    "#wordCntForHam"
   ]
  },
  {
   "cell_type": "markdown",
   "metadata": {},
   "source": [
    "## Counting the frquencies of token by spliting the massage with spaces for spam"
   ]
  },
  {
   "cell_type": "code",
   "execution_count": 6,
   "metadata": {},
   "outputs": [],
   "source": [
    "wordCntForSpam = Counter()\n",
    "for row in spam:\n",
    "    for word in row.split(' '):\n",
    "        wordCntForSpam[word] += 1\n",
    "#wordCntForSpam"
   ]
  },
  {
   "cell_type": "markdown",
   "metadata": {},
   "source": [
    "## Delete any token that are less than 3 characters in length and apply laplace smoothing "
   ]
  },
  {
   "cell_type": "code",
   "execution_count": 7,
   "metadata": {
    "collapsed": true
   },
   "outputs": [],
   "source": [
    "hamClean = wordCntForHam.copy()\n",
    "spamClean = wordCntForSpam.copy()\n",
    "\n",
    "for i in wordCntForHam:\n",
    "    if len(i) <= 2:\n",
    "        del hamClean[i]\n",
    "        \n",
    "for i in wordCntForSpam:\n",
    "    if len(i) <= 2:\n",
    "        del spamClean[i]\n",
    "\n",
    "for i in hamClean:\n",
    "    hamClean[i] = wordCntForHam[i] + 1\n",
    "    \n",
    "for i in spamClean:\n",
    "    spamClean[i] = wordCntForSpam[i] + 1"
   ]
  },
  {
   "cell_type": "markdown",
   "metadata": {},
   "source": [
    "##  Find the Probabilities of the words given that they are an ham message or spam message"
   ]
  },
  {
   "cell_type": "code",
   "execution_count": 8,
   "metadata": {
    "collapsed": true
   },
   "outputs": [],
   "source": [
    "probHam = {}\n",
    "probSpam = {}\n",
    "\n",
    "for i in hamClean:\n",
    "    probHam[i] = math.log(float(hamClean[i])/sum(hamClean.values()))\n",
    "\n",
    "for i in spamClean:\n",
    "    probSpam[i] = math.log(float(spamClean[i])/sum(spamClean.values()))"
   ]
  },
  {
   "cell_type": "markdown",
   "metadata": {},
   "source": [
    "## Load test dataset"
   ]
  },
  {
   "cell_type": "code",
   "execution_count": 10,
   "metadata": {
    "scrolled": true
   },
   "outputs": [],
   "source": [
    "testMessages = pd.read_csv('test.csv', sep='\\t', quoting=csv.QUOTE_NONE, names=[\"label\", \"message\"], encoding = 'unicode_escape')\n",
    "testMessages = testMessages.dropna()\n",
    "testMessages\n",
    "testMessages['message'] = [cleanText(i) for i in testMessages['message']]\n",
    "#testMessages['message']"
   ]
  },
  {
   "cell_type": "markdown",
   "metadata": {},
   "source": [
    "## Thats a process to find the message is ham or spam using probabilities of token that we calculate above \n",
    "### In this process: splitting the row by spaces and look up the word probablity of being an ham or spam message"
   ]
  },
  {
   "cell_type": "code",
   "execution_count": 11,
   "metadata": {
    "collapsed": true
   },
   "outputs": [],
   "source": [
    "results = []\n",
    "\n",
    "for index, row in testMessages.iterrows():\n",
    "    hamSum = 0\n",
    "    spamSum = 0\n",
    "    for word in row.message.split(' '):\n",
    "        if len(word) <= 2:\n",
    "            hamSum += 0\n",
    "            spamSum += 0\n",
    "        else:\n",
    "            if word in probHam:\n",
    "                hamSum += probHam[word]\n",
    "            else:\n",
    "                hamSum += math.log(float(1)/sum(hamClean.values()))\n",
    "                \n",
    "            if word in probSpam:\n",
    "                spamSum += probSpam[word]\n",
    "            else:\n",
    "                spamSum += math.log(float(1)/sum(spamClean.values()))\n",
    "    if hamSum > spamSum:\n",
    "        results.append('ham')\n",
    "    else:\n",
    "        results.append('spam')"
   ]
  },
  {
   "cell_type": "markdown",
   "metadata": {},
   "source": [
    "## results"
   ]
  },
  {
   "cell_type": "code",
   "execution_count": 12,
   "metadata": {
    "scrolled": true
   },
   "outputs": [
    {
     "data": {
      "text/html": [
       "<div>\n",
       "<style scoped>\n",
       "    .dataframe tbody tr th:only-of-type {\n",
       "        vertical-align: middle;\n",
       "    }\n",
       "\n",
       "    .dataframe tbody tr th {\n",
       "        vertical-align: top;\n",
       "    }\n",
       "\n",
       "    .dataframe thead th {\n",
       "        text-align: right;\n",
       "    }\n",
       "</style>\n",
       "<table border=\"1\" class=\"dataframe\">\n",
       "  <thead>\n",
       "    <tr style=\"text-align: right;\">\n",
       "      <th></th>\n",
       "      <th>label</th>\n",
       "      <th>message</th>\n",
       "      <th>prediction</th>\n",
       "    </tr>\n",
       "  </thead>\n",
       "  <tbody>\n",
       "    <tr>\n",
       "      <th>0</th>\n",
       "      <td>ham</td>\n",
       "      <td>go until jurong point  crazy. available only i...</td>\n",
       "      <td>ham</td>\n",
       "    </tr>\n",
       "    <tr>\n",
       "      <th>1</th>\n",
       "      <td>ham</td>\n",
       "      <td>ok lar.. joking wif u oni...</td>\n",
       "      <td>ham</td>\n",
       "    </tr>\n",
       "    <tr>\n",
       "      <th>2</th>\n",
       "      <td>spam</td>\n",
       "      <td>free entry in 2 a wkly comp to win fa cup fina...</td>\n",
       "      <td>spam</td>\n",
       "    </tr>\n",
       "    <tr>\n",
       "      <th>3</th>\n",
       "      <td>ham</td>\n",
       "      <td>u dun say so early hor.. u c already then say...</td>\n",
       "      <td>ham</td>\n",
       "    </tr>\n",
       "    <tr>\n",
       "      <th>4</th>\n",
       "      <td>ham</td>\n",
       "      <td>nah i don't think he goes to usf  he lives aro...</td>\n",
       "      <td>ham</td>\n",
       "    </tr>\n",
       "  </tbody>\n",
       "</table>\n",
       "</div>"
      ],
      "text/plain": [
       "  label                                            message prediction\n",
       "0   ham  go until jurong point  crazy. available only i...        ham\n",
       "1   ham                       ok lar.. joking wif u oni...        ham\n",
       "2  spam  free entry in 2 a wkly comp to win fa cup fina...       spam\n",
       "3   ham   u dun say so early hor.. u c already then say...        ham\n",
       "4   ham  nah i don't think he goes to usf  he lives aro...        ham"
      ]
     },
     "execution_count": 12,
     "metadata": {},
     "output_type": "execute_result"
    }
   ],
   "source": [
    "testMessages['prediction'] = results\n",
    "testMessages.head()"
   ]
  },
  {
   "cell_type": "markdown",
   "metadata": {},
   "source": [
    "## import classification_report, accuracy_score, confusion_matrix"
   ]
  },
  {
   "cell_type": "code",
   "execution_count": 13,
   "metadata": {
    "collapsed": true
   },
   "outputs": [],
   "source": [
    "from sklearn.metrics import classification_report, f1_score, accuracy_score, confusion_matrix\n",
    "import sklearn"
   ]
  },
  {
   "cell_type": "markdown",
   "metadata": {},
   "source": [
    "### Accuracy score and confusion matrix"
   ]
  },
  {
   "cell_type": "code",
   "execution_count": 14,
   "metadata": {},
   "outputs": [
    {
     "name": "stdout",
     "output_type": "stream",
     "text": [
      "accuracy 0.9459459459459459\n",
      "confusion matrix\n",
      " [[26  2]\n",
      " [ 0  9]]\n",
      "(row=expected, col=predicted)\n"
     ]
    }
   ],
   "source": [
    "print('accuracy', accuracy_score(testMessages['label'], testMessages['prediction']))\n",
    "print('confusion matrix\\n', confusion_matrix(testMessages['label'], testMessages['prediction']))\n",
    "print('(row=expected, col=predicted)')"
   ]
  },
  {
   "cell_type": "code",
   "execution_count": 15,
   "metadata": {
    "scrolled": true
   },
   "outputs": [
    {
     "data": {
      "image/png": "[encoded data removed]",
      "text/plain": [
       "<Figure size 288x288 with 2 Axes>"
      ]
     },
     "metadata": {},
     "output_type": "display_data"
    }
   ],
   "source": [
    "plt.matshow(confusion_matrix(testMessages['label'], testMessages['prediction']), cmap=plt.cm.coolwarm, interpolation='nearest')\n",
    "plt.title('confusion matrix')\n",
    "plt.colorbar()\n",
    "plt.ylabel('expected label')\n",
    "plt.xlabel('predicted label')\n",
    "plt.show()"
   ]
  },
  {
   "cell_type": "markdown",
   "metadata": {},
   "source": [
    "## Classification report including f1_score, precision and recall"
   ]
  },
  {
   "cell_type": "code",
   "execution_count": 16,
   "metadata": {},
   "outputs": [
    {
     "name": "stdout",
     "output_type": "stream",
     "text": [
      "              precision    recall  f1-score   support\n",
      "\n",
      "         ham       1.00      0.93      0.96        28\n",
      "        spam       0.82      1.00      0.90         9\n",
      "\n",
      "   micro avg       0.95      0.95      0.95        37\n",
      "   macro avg       0.91      0.96      0.93        37\n",
      "weighted avg       0.96      0.95      0.95        37\n",
      "\n"
     ]
    }
   ],
   "source": [
    "print(classification_report(testMessages['label'], testMessages['prediction']))"
   ]
  },
  {
   "cell_type": "markdown",
   "metadata": {},
   "source": [
    "# Thankyou!"
   ]
  },
  {
   "cell_type": "code",
   "execution_count": null,
   "metadata": {
    "collapsed": true
   },
   "outputs": [],
   "source": []
  }
 ],
 "metadata": {
  "kernelspec": {
   "display_name": "Python 3",
   "language": "python",
   "name": "python3"
  },
  "language_info": {
   "codemirror_mode": {
    "name": "ipython",
    "version": 3
   },
   "file_extension": ".py",
   "mimetype": "text/x-python",
   "name": "python",
   "nbconvert_exporter": "python",
   "pygments_lexer": "ipython3",
   "version": "3.6.3"
  }
 },
 "nbformat": 4,
 "nbformat_minor": 2
}
